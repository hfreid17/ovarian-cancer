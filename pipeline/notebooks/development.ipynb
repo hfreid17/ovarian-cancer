{
 "cells": [
  {
   "cell_type": "markdown",
   "metadata": {},
   "source": [
    "## Import Python Modules"
   ]
  },
  {
   "cell_type": "code",
   "execution_count": 3,
   "metadata": {},
   "outputs": [
    {
     "name": "stdout",
     "output_type": "stream",
     "text": [
      "/Users/maayanlab/Documents/Ovarian Cancer Project/ovarian-cancer\n"
     ]
    }
   ],
   "source": [
    "%cd /Users/maayanlab/Documents/Ovarian Cancer Project/ovarian-cancer\n",
    "%load_ext rpy2.ipython\n",
    "import pandas as pd"
   ]
  },
  {
   "cell_type": "markdown",
   "metadata": {},
   "source": [
    "### Define Input and Output Files"
   ]
  },
  {
   "cell_type": "code",
   "execution_count": 4,
   "metadata": {},
   "outputs": [],
   "source": [
    "# Define infile and outfile\n",
    "infile = '/Users/maayanlab/Documents/Ovarian Cancer Project/ovarian-cancer/rawdata/TCGA-OV-fpkm-uq_zscore.txt'\n",
    "outfile = '/Users/maayanlab/Documents/Ovarian Cancer Project/ovarian-cancer/rawdata/TCGA-OV-fpkm-uq_chea.txt'"
   ]
  },
  {
   "cell_type": "markdown",
   "metadata": {},
   "source": [
    "### Test the code"
   ]
  },
  {
   "cell_type": "code",
   "execution_count": 5,
   "metadata": {
    "scrolled": true
   },
   "outputs": [],
   "source": [
    "# loop through each sample, take abs val, rank, take top 300, make dictionary (key=sampleid),\n",
    "\n",
    "\n",
    "# making dictionary of top 300 most differentially expressed genes for each sample\n",
    "df_zscore = pd.read_table(infile).set_index(\"gene_symbol\")\n",
    "\n",
    "df_zscore_abs = df_zscore.abs()\n",
    "\n",
    "dict_signatures_300 = {}\n",
    "\n",
    "for sample in df_zscore.columns:\n",
    "    col = df_zscore_abs[sample].sort_values(ascending=False) # sort values in decreasing order\n",
    "    dict_signatures_300[sample] = col.index[:300]\n",
    "\n",
    "    \n",
    "    "
   ]
  },
  {
   "cell_type": "code",
   "execution_count": 8,
   "metadata": {},
   "outputs": [
    {
     "name": "stdout",
     "output_type": "stream",
     "text": [
      "<rpy2.rinterface.ListSexpVector - Python:0x115630258 / R:0x7f91d36b6738>\n"
     ]
    },
    {
     "name": "stderr",
     "output_type": "stream",
     "text": [
      "/Users/maayanlab/anaconda3/lib/python3.6/site-packages/rpy2/rinterface/__init__.py:146: RRuntimeWarning: Skipping install of 'genesetr' from a github remote, the SHA1 (16a1423a) has not changed since last install.\n",
      "  Use `force = TRUE` to force installation\n",
      "\n",
      "  warnings.warn(x, RRuntimeWarning)\n"
     ]
    }
   ],
   "source": [
    "# looping through dictionary to query chea3\n",
    "\n",
    "dict_chearesults = {}\n",
    "\n",
    "list_onesample = dict_signatures_300[\"TCGA-04-1331-01\"]\n",
    "\n",
    "\n",
    "%Rpush list_onesample\n",
    "%R chea_result = chea3::queryChea(geneset = list_onesample, set_name = \"TCGA-04-1331-01\", n_results = \"all\", background= 20000)\n",
    "%Rpull chea_result\n",
    "\n",
    "print(chea_result)\n",
    "# for tcga_sample, geneset_forchea in dict_signatures_300.items():\n",
    "#     print(tcga_sample)\n",
    "#     %Rpush tcga_sample\n",
    "#     %Rpush geneset_forchea\n",
    "# #     %R geneset2 <- as.character(geneset_forchea)\n",
    "# #     %R print(geneset2)\n",
    "#     %R chea_result = chea3::queryChea(geneset = geneset_forchea, set_name = tcga_sample, n_results = \"all\", background= 20000)\n",
    "#     %Rpull chea_result\n",
    "#     dict_chearesults[sample] = chea_result\n"
   ]
  },
  {
   "cell_type": "code",
   "execution_count": 13,
   "metadata": {},
   "outputs": [
    {
     "data": {
      "text/plain": [
       "[1] \"ReMap\"      \"ARCHS4\"     \"ChEA\"       \"GTEx\"       \"Enrichr\"   \n",
       "[6] \"integrated\"\n"
      ]
     },
     "metadata": {},
     "output_type": "display_data"
    }
   ],
   "source": [
    "%%R\n",
    "names(chea_result)"
   ]
  },
  {
   "cell_type": "code",
   "execution_count": 18,
   "metadata": {},
   "outputs": [
    {
     "data": {
      "text/plain": [
       "               set1                   set2 intersect len_set1 len_set2\n",
       "11  TCGA-04-1331-01     ARX_ARCHS4_PEARSON         7      300      300\n",
       "105 TCGA-04-1331-01 FOXD4L3_ARCHS4_PEARSON         7      300      300\n",
       "110 TCGA-04-1331-01   FOXH1_ARCHS4_PEARSON         6      300      300\n",
       "288 TCGA-04-1331-01   NPAS3_ARCHS4_PEARSON         6      300      300\n",
       "32  TCGA-04-1331-01  CAMTA1_ARCHS4_PEARSON         6      300      300\n",
       "378 TCGA-04-1331-01   SATB2_ARCHS4_PEARSON         6      300      300\n",
       "    background FET.p.val rank      TF\n",
       "11       20000 0.1660156    1     ARX\n",
       "105      20000 0.1660156    2 FOXD4L3\n",
       "110      20000 0.2957431    3   FOXH1\n",
       "288      20000 0.2957431    4   NPAS3\n",
       "32       20000 0.2957431    5  CAMTA1\n",
       "378      20000 0.2957431    6   SATB2\n"
      ]
     },
     "metadata": {},
     "output_type": "display_data"
    }
   ],
   "source": [
    "%%R\n",
    "archs4_results <- chea_result[['ARCHS4']]\n",
    "head(archs4_results)"
   ]
  },
  {
   "cell_type": "code",
   "execution_count": 15,
   "metadata": {},
   "outputs": [],
   "source": [
    "%Rpull archs4_results"
   ]
  },
  {
   "cell_type": "code",
   "execution_count": 5,
   "metadata": {},
   "outputs": [],
   "source": [
    "%load_ext rpy2.ipython"
   ]
  },
  {
   "cell_type": "code",
   "execution_count": 8,
   "metadata": {},
   "outputs": [],
   "source": [
    "python_list = ['1', '2', '3']"
   ]
  },
  {
   "cell_type": "code",
   "execution_count": 10,
   "metadata": {
    "scrolled": true
   },
   "outputs": [
    {
     "data": {
      "text/plain": [
       "[[1]]\n",
       "[1] \"1\"\n",
       "\n",
       "[[2]]\n",
       "[1] \"2\"\n",
       "\n",
       "[[3]]\n",
       "[1] \"3\"\n",
       "\n"
      ]
     },
     "metadata": {},
     "output_type": "display_data"
    }
   ],
   "source": [
    "%%R -i python_list\n",
    "print(python_list)"
   ]
  },
  {
   "cell_type": "code",
   "execution_count": 11,
   "metadata": {
    "scrolled": false
   },
   "outputs": [
    {
     "data": {
      "text/plain": [
       "[[1]]\n",
       "[1] \"1\"\n",
       "\n",
       "[[2]]\n",
       "[1] \"2\"\n",
       "\n",
       "[[3]]\n",
       "[1] \"3\"\n",
       "\n"
      ]
     },
     "metadata": {},
     "output_type": "display_data"
    }
   ],
   "source": [
    "%R -i python_list print(python_list)"
   ]
  },
  {
   "cell_type": "code",
   "execution_count": 12,
   "metadata": {},
   "outputs": [
    {
     "data": {
      "text/plain": [
       "array(['/Library/Frameworks/R.framework/Versions/3.5/Resources/library/chea3/help/queryChea'],\n",
       "      dtype='<U83')"
      ]
     },
     "execution_count": 12,
     "metadata": {},
     "output_type": "execute_result"
    }
   ],
   "source": [
    "%Rpush geneset\n",
    "%R chea_result <- chea3::queryChea(geneset)\n",
    "%Rpull chea_result"
   ]
  },
  {
   "cell_type": "code",
   "execution_count": null,
   "metadata": {},
   "outputs": [],
   "source": [
    "## working code from visual studio for running 1 signature through chea3\n",
    "\n",
    "# def runChea(infile, outfile):\n",
    "\n",
    "#     # making dictionary of top 300 most differentially expressed genes for each sample\n",
    "#     df_zscore = pd.read_table(infile).set_index(\"gene_symbol\")\n",
    "\n",
    "#     df_zscore_abs = df_zscore.abs()\n",
    "\n",
    "#     dict_signatures_300 = {}\n",
    "\n",
    "#     for sample in df_zscore.columns:\n",
    "#         col = df_zscore_abs[sample].sort_values(ascending=False) # sort values in decreasing order\n",
    "#         dict_signatures_300[sample] = col.index[:300]\n",
    "    \n",
    "\n",
    "#     # looping through dictionary to query chea3\n",
    "#     dict_chearesults = {}\n",
    "\n",
    "#     list_onesample = dict_signatures_300[\"TCGA-04-1331-01\"]\n",
    "#     tcga_sample = \"TCGA-04-1331-01\"\n",
    "    \n",
    "#     # for tcga_sample, geneset_forchea in dict_signatures_300.items():\n",
    "#     chea_results_r = r.Rrun_chea(list_onesample)\n",
    "#     chea_results_df = pandas2ri.ri2py(chea_results_r)\n",
    "\n",
    "#     chea_results_df.to_csv(outfile, sep = \"\\t\")\n",
    "\n"
   ]
  }
 ],
 "metadata": {
  "kernelspec": {
   "display_name": "Python 3",
   "language": "python",
   "name": "python3"
  },
  "language_info": {
   "codemirror_mode": {
    "name": "ipython",
    "version": 3
   },
   "file_extension": ".py",
   "mimetype": "text/x-python",
   "name": "python",
   "nbconvert_exporter": "python",
   "pygments_lexer": "ipython3",
   "version": "3.6.5"
  }
 },
 "nbformat": 4,
 "nbformat_minor": 2
}
